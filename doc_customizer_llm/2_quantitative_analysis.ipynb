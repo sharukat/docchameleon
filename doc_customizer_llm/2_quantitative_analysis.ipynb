{
 "cells": [
  {
   "cell_type": "code",
   "execution_count": 1,
   "metadata": {},
   "outputs": [],
   "source": [
    "import pandas as pd\n",
    "from ShaDoC import generate\n",
    "from tqdm import tqdm\n",
    "import time\n",
    "import lib.global_settings as settings\n",
    "import os"
   ]
  },
  {
   "cell_type": "code",
   "execution_count": 2,
   "metadata": {},
   "outputs": [
    {
     "data": {
      "text/html": [
       "<div>\n",
       "<style scoped>\n",
       "    .dataframe tbody tr th:only-of-type {\n",
       "        vertical-align: middle;\n",
       "    }\n",
       "\n",
       "    .dataframe tbody tr th {\n",
       "        vertical-align: top;\n",
       "    }\n",
       "\n",
       "    .dataframe thead th {\n",
       "        text-align: right;\n",
       "    }\n",
       "</style>\n",
       "<table border=\"1\" class=\"dataframe\">\n",
       "  <thead>\n",
       "    <tr style=\"text-align: right;\">\n",
       "      <th></th>\n",
       "      <th>Package</th>\n",
       "      <th>Java API</th>\n",
       "      <th>Question</th>\n",
       "      <th>SISE</th>\n",
       "      <th>JADEITE</th>\n",
       "      <th>CROKAGE</th>\n",
       "      <th>ADECK</th>\n",
       "      <th>DocChameleon</th>\n",
       "      <th>SISE_context_relevancy</th>\n",
       "      <th>CROKAGE_context_relevancy</th>\n",
       "      <th>ADECK_relevancy</th>\n",
       "      <th>DocChameleon_context_relevancy</th>\n",
       "    </tr>\n",
       "  </thead>\n",
       "  <tbody>\n",
       "    <tr>\n",
       "      <th>0</th>\n",
       "      <td>applet</td>\n",
       "      <td>Applet</td>\n",
       "      <td>Loading and displaying local Images in Java Ap...</td>\n",
       "      <td>&lt;p&gt;If you re still seeing an  Illegal Escape C...</td>\n",
       "      <td>Most common way to construct:\\nClass appletCla...</td>\n",
       "      <td>It's likely the image can't be accessed from i...</td>\n",
       "      <td>*******************usage scenario 1***********...</td>\n",
       "      <td>['\"\"\"How can I display an image in the Applet?...</td>\n",
       "      <td>0.166667</td>\n",
       "      <td>1.000000</td>\n",
       "      <td>0.078125</td>\n",
       "      <td>0.968889</td>\n",
       "    </tr>\n",
       "    <tr>\n",
       "      <th>1</th>\n",
       "      <td>applet</td>\n",
       "      <td>Applet</td>\n",
       "      <td>Classloader in Applet: Cant access files</td>\n",
       "      <td>&lt;p&gt;If you re still seeing an  Illegal Escape C...</td>\n",
       "      <td>Most common way to construct:\\nClass appletCla...</td>\n",
       "      <td>Classloader hierarchy\\nWhenever a new JVM is s...</td>\n",
       "      <td>*******************usage scenario 1***********...</td>\n",
       "      <td>['\"\"\"Classloader in Applet: Can\\'t access file...</td>\n",
       "      <td>0.166667</td>\n",
       "      <td>0.388889</td>\n",
       "      <td>0.078125</td>\n",
       "      <td>1.000000</td>\n",
       "    </tr>\n",
       "    <tr>\n",
       "      <th>2</th>\n",
       "      <td>applet</td>\n",
       "      <td>Applet</td>\n",
       "      <td>How to access a file in a Java Applet?</td>\n",
       "      <td>&lt;p&gt;If you re still seeing an  Illegal Escape C...</td>\n",
       "      <td>Most common way to construct:\\nClass appletCla...</td>\n",
       "      <td>You need to wrap your code in AccessController...</td>\n",
       "      <td>*******************usage scenario 1***********...</td>\n",
       "      <td>['\"\"\"Accessing files from a Java Applet\\n\\nI\\'...</td>\n",
       "      <td>0.166667</td>\n",
       "      <td>0.333333</td>\n",
       "      <td>0.078125</td>\n",
       "      <td>0.280000</td>\n",
       "    </tr>\n",
       "    <tr>\n",
       "      <th>3</th>\n",
       "      <td>swing</td>\n",
       "      <td>JPanel</td>\n",
       "      <td>how to set JFrame background transparent but J...</td>\n",
       "      <td>&lt;p&gt;If you are using JPanels  then are probably...</td>\n",
       "      <td>Most common way to construct:\\nJPanel panel = ...</td>\n",
       "      <td>I found another solution.\\n\\nSet the backgroun...</td>\n",
       "      <td>*******************usage scenario 1***********...</td>\n",
       "      <td>['\"\"\"how to set JFrame background transparent ...</td>\n",
       "      <td>0.072464</td>\n",
       "      <td>1.000000</td>\n",
       "      <td>0.074627</td>\n",
       "      <td>1.000000</td>\n",
       "    </tr>\n",
       "    <tr>\n",
       "      <th>4</th>\n",
       "      <td>swing</td>\n",
       "      <td>JPanel</td>\n",
       "      <td>How to set a transparent background of JPanel?</td>\n",
       "      <td>&lt;p&gt;If you are using JPanels  then are probably...</td>\n",
       "      <td>Most common way to construct:\\nJPanel panel = ...</td>\n",
       "      <td>You could use setOpaque() to make the backgrou...</td>\n",
       "      <td>*******************usage scenario 1***********...</td>\n",
       "      <td>['\"\"\"I want to create a semi-transparent JPane...</td>\n",
       "      <td>0.072464</td>\n",
       "      <td>0.136364</td>\n",
       "      <td>0.074627</td>\n",
       "      <td>0.437500</td>\n",
       "    </tr>\n",
       "  </tbody>\n",
       "</table>\n",
       "</div>"
      ],
      "text/plain": [
       "  Package Java API                                           Question  \\\n",
       "0  applet   Applet  Loading and displaying local Images in Java Ap...   \n",
       "1  applet   Applet           Classloader in Applet: Cant access files   \n",
       "2  applet   Applet             How to access a file in a Java Applet?   \n",
       "3   swing   JPanel  how to set JFrame background transparent but J...   \n",
       "4   swing   JPanel     How to set a transparent background of JPanel?   \n",
       "\n",
       "                                                SISE  \\\n",
       "0  <p>If you re still seeing an  Illegal Escape C...   \n",
       "1  <p>If you re still seeing an  Illegal Escape C...   \n",
       "2  <p>If you re still seeing an  Illegal Escape C...   \n",
       "3  <p>If you are using JPanels  then are probably...   \n",
       "4  <p>If you are using JPanels  then are probably...   \n",
       "\n",
       "                                             JADEITE  \\\n",
       "0  Most common way to construct:\\nClass appletCla...   \n",
       "1  Most common way to construct:\\nClass appletCla...   \n",
       "2  Most common way to construct:\\nClass appletCla...   \n",
       "3  Most common way to construct:\\nJPanel panel = ...   \n",
       "4  Most common way to construct:\\nJPanel panel = ...   \n",
       "\n",
       "                                             CROKAGE  \\\n",
       "0  It's likely the image can't be accessed from i...   \n",
       "1  Classloader hierarchy\\nWhenever a new JVM is s...   \n",
       "2  You need to wrap your code in AccessController...   \n",
       "3  I found another solution.\\n\\nSet the backgroun...   \n",
       "4  You could use setOpaque() to make the backgrou...   \n",
       "\n",
       "                                               ADECK  \\\n",
       "0  *******************usage scenario 1***********...   \n",
       "1  *******************usage scenario 1***********...   \n",
       "2  *******************usage scenario 1***********...   \n",
       "3  *******************usage scenario 1***********...   \n",
       "4  *******************usage scenario 1***********...   \n",
       "\n",
       "                                        DocChameleon  SISE_context_relevancy  \\\n",
       "0  ['\"\"\"How can I display an image in the Applet?...                0.166667   \n",
       "1  ['\"\"\"Classloader in Applet: Can\\'t access file...                0.166667   \n",
       "2  ['\"\"\"Accessing files from a Java Applet\\n\\nI\\'...                0.166667   \n",
       "3  ['\"\"\"how to set JFrame background transparent ...                0.072464   \n",
       "4  ['\"\"\"I want to create a semi-transparent JPane...                0.072464   \n",
       "\n",
       "   CROKAGE_context_relevancy  ADECK_relevancy  DocChameleon_context_relevancy  \n",
       "0                   1.000000         0.078125                        0.968889  \n",
       "1                   0.388889         0.078125                        1.000000  \n",
       "2                   0.333333         0.078125                        0.280000  \n",
       "3                   1.000000         0.074627                        1.000000  \n",
       "4                   0.136364         0.074627                        0.437500  "
      ]
     },
     "execution_count": 2,
     "metadata": {},
     "output_type": "execute_result"
    }
   ],
   "source": [
    "# df = pd.read_csv('/Users/sharukat/Documents/ResearchYU/Code/doc-customizer-llm/doc_customizer_llm/quantitative_results_new.csv')\n",
    "df = pd.read_csv(os.path.join(settings.DATA_PATH, \"final_data/quantitative_results_context.csv\"))\n",
    "# df = df[[\"Package\", \"Java API\", \"Question\", \"SISE\", \"JADEITE\", \"CROKAGE\", \"ADECK\"]]\n",
    "df.head()"
   ]
  },
  {
   "cell_type": "code",
   "execution_count": 3,
   "metadata": {},
   "outputs": [
    {
     "name": "stdout",
     "output_type": "stream",
     "text": [
      "(25, 7)\n",
      "(25, 7)\n"
     ]
    }
   ],
   "source": [
    "half1 = df.iloc[:len(df)//2]\n",
    "half2 = df.iloc[len(df)//2:]\n",
    "print(half1.shape)\n",
    "print(half2.shape)"
   ]
  },
  {
   "cell_type": "markdown",
   "metadata": {},
   "source": [
    "#### Explanation Generation"
   ]
  },
  {
   "cell_type": "code",
   "execution_count": null,
   "metadata": {},
   "outputs": [],
   "source": [
    "# values1 = []\n",
    "# for index, row in tqdm(half2.iterrows(), total=half2.shape[0]):\n",
    "#     solution = generate.generate_explanation(row['Question'])\n",
    "#     time.sleep(4)\n",
    "#     values1.append(solution)\n",
    "\n",
    "# half2['DocChameleon_explanation'] = values1\n",
    "# half2.to_csv(os.path.join(settings.DATA_PATH, \"final_data/quantitative_results_2.csv\"), index=False)"
   ]
  },
  {
   "cell_type": "markdown",
   "metadata": {},
   "source": [
    "#### Code Example Generation"
   ]
  },
  {
   "cell_type": "code",
   "execution_count": null,
   "metadata": {},
   "outputs": [],
   "source": [
    "# values1 = []\n",
    "# for index, row in tqdm(df.iterrows(), total=df.shape[0]):\n",
    "#     solution = generate.generate_code(row['Question'])\n",
    "#     time.sleep(4)\n",
    "#     generation = solution[0]\n",
    "#     answer = \"\\n\".join([generation.prefix, generation.imports, generation.code])\n",
    "#     values1.append(answer)\n",
    "\n",
    "# df['DocChameleon_code'] = values1\n",
    "# df.to_csv(os.path.join(settings.DATA_PATH, \"final_data/quantitative_results_2.csv\"), index=False)\n"
   ]
  },
  {
   "cell_type": "code",
   "execution_count": 22,
   "metadata": {},
   "outputs": [],
   "source": [
    "half1 = pd.read_csv('/Users/sharukat/Documents/ResearchYU/Code/doc-customizer-llm/doc_customizer_llm/quantitative0.csv')\n",
    "half2 = pd.read_csv('/Users/sharukat/Documents/ResearchYU/Code/doc-customizer-llm/doc_customizer_llm/quantitative3.csv')"
   ]
  },
  {
   "cell_type": "code",
   "execution_count": null,
   "metadata": {},
   "outputs": [],
   "source": [
    "# values2 = []\n",
    "# for index, row in tqdm(half2.iterrows(), total=half2.shape[0]):\n",
    "#     result = r.context_retrieval(row['Question'])\n",
    "#     values2.append(str(result[0]))\n",
    "\n",
    "# half2['DocChameleon'] = values2\n",
    "# half2.to_csv('/Users/sharukat/Documents/ResearchYU/Code/doc-customizer-llm/doc_customizer_llm/quantitative2.csv', index=False)"
   ]
  },
  {
   "cell_type": "code",
   "execution_count": null,
   "metadata": {},
   "outputs": [],
   "source": [
    "# result_df = pd.concat([half1, half2], axis=0)\n",
    "# result_df.reset_index(drop=True, inplace=True)\n",
    "# result_df.to_csv('/Users/sharukat/Documents/ResearchYU/Code/doc-customizer-llm/doc_customizer_llm/quantitative_results.csv', index=False)\n",
    "result_df = pd.read_csv('/Users/sharukat/Documents/ResearchYU/Code/doc-customizer-llm/doc_customizer_llm/quantitative_results_new.csv')\n",
    "result_df"
   ]
  },
  {
   "cell_type": "markdown",
   "metadata": {},
   "source": [
    "## Readability Score"
   ]
  },
  {
   "cell_type": "code",
   "execution_count": 129,
   "metadata": {},
   "outputs": [
    {
     "name": "stderr",
     "output_type": "stream",
     "text": [
      "100%|██████████| 50/50 [00:00<00:00, 437.17it/s]\n"
     ]
    }
   ],
   "source": [
    "import textstat\n",
    "\n",
    "values = []\n",
    "for index, row in tqdm(df.iterrows(), total=df.shape[0]):\n",
    "    flesch_reading_ease_score = textstat.flesch_reading_ease(row[\"DocChameleon_code\"])\n",
    "    values.append(flesch_reading_ease_score)\n",
    "\n",
    "df[\"DocChameleon_code_flesch\"] = values"
   ]
  },
  {
   "cell_type": "code",
   "execution_count": null,
   "metadata": {},
   "outputs": [],
   "source": [
    "from radon.metrics import mi_visit\n",
    "import re\n",
    "\n",
    "values = []\n",
    "for index, row in tqdm(df.iterrows(), total=df.shape[0]):\n",
    "    cleaned_text = re.sub(r'\"\"\".*?\"\"\"', '', row[\"ADECK\"], flags=re.DOTALL)\n",
    "    maintainability_index = mi_visit(cleaned_text, multi=False)\n",
    "    values.append(maintainability_index)\n",
    "\n",
    "df[\"ADECK_maintainability\"] = values"
   ]
  },
  {
   "cell_type": "markdown",
   "metadata": {},
   "source": [
    "## Contenxt Relevancy"
   ]
  },
  {
   "cell_type": "code",
   "execution_count": 5,
   "metadata": {},
   "outputs": [
    {
     "data": {
      "application/vnd.jupyter.widget-view+json": {
       "model_id": "eb9f3c0afec4411abc4fdb99ad886d4b",
       "version_major": 2,
       "version_minor": 0
      },
      "text/plain": [
       "Evaluating:   0%|          | 0/50 [00:00<?, ?it/s]"
      ]
     },
     "metadata": {},
     "output_type": "display_data"
    }
   ],
   "source": [
    "from ragas.metrics import context_relevancy\n",
    "\n",
    "import os\n",
    "from dotenv import load_dotenv\n",
    "\n",
    "load_dotenv(dotenv_path=\"/Users/sharukat/Documents/ResearchYU/Code/doc-customizer-llm/doc_customizer_llm/.env\")\n",
    "os.environ[\"OPENAI_API_KEY\"] = os.getenv(\"OPENAI_API_KEY\") \n",
    "\n",
    "from langchain_openai import ChatOpenAI\n",
    "agent_llm = ChatOpenAI(temperature=0, model_name=\"gpt-4o\")\n",
    "\n",
    "from ragas import evaluate\n",
    "from datasets import Dataset\n",
    "\n",
    "def compute_context_relevancy(df):\n",
    "    df['DocChameleon_explanation'] = df['DocChameleon_explanation'].apply(lambda x: [str(x)])\n",
    "    \n",
    "    data = {\n",
    "    \"question\": df['Question'],\n",
    "    \"contexts\": df['DocChameleon_explanation']\n",
    "    }\n",
    "    metrics = [context_relevancy]\n",
    "\n",
    "    # # Create a Dataset object\n",
    "    dataset = Dataset.from_dict(data)\n",
    "    eval = evaluate(dataset, metrics=metrics, llm=agent_llm)\n",
    "    res = eval.to_pandas()\n",
    "    return res\n",
    "\n",
    "\n",
    "result = compute_context_relevancy(df)"
   ]
  },
  {
   "cell_type": "code",
   "execution_count": null,
   "metadata": {},
   "outputs": [],
   "source": [
    "def merge_and_rename(df1, df2, column_to_merge, new_column_name):\n",
    "    merged_df = df1.join(df2[[column_to_merge]], how='left')\n",
    "    merged_df = merged_df.rename(columns={column_to_merge: new_column_name})\n",
    "    return merged_df\n",
    "\n",
    "result_df = merge_and_rename(df, result, \"context_relevancy\", \"DocChameleon_explanation_relevancy\")\n",
    "result_df\n",
    "# result_df.to_csv(os.path.join(settings.DATA_PATH, \"final_data/quantitative_results.csv\"),index=False)"
   ]
  },
  {
   "cell_type": "code",
   "execution_count": 105,
   "metadata": {},
   "outputs": [],
   "source": [
    "df1 = pd.read_csv(os.path.join(settings.DATA_PATH, \"final_data/quantitative_results_1.csv\"))\n",
    "df2 = pd.read_csv(os.path.join(settings.DATA_PATH, \"final_data/quantitative_results_2.csv\"))\n",
    "\n",
    "df = pd.concat([df1, df2], ignore_index=True)\n",
    "df.to_csv(os.path.join(settings.DATA_PATH, \"final_data/quantitative_results.csv\"),index=False)"
   ]
  },
  {
   "cell_type": "markdown",
   "metadata": {},
   "source": [
    "### Analysis"
   ]
  },
  {
   "cell_type": "markdown",
   "metadata": {},
   "source": [
    "#### Explanations"
   ]
  },
  {
   "cell_type": "code",
   "execution_count": 3,
   "metadata": {},
   "outputs": [
    {
     "data": {
      "text/html": [
       "<div>\n",
       "<style scoped>\n",
       "    .dataframe tbody tr th:only-of-type {\n",
       "        vertical-align: middle;\n",
       "    }\n",
       "\n",
       "    .dataframe tbody tr th {\n",
       "        vertical-align: top;\n",
       "    }\n",
       "\n",
       "    .dataframe thead th {\n",
       "        text-align: right;\n",
       "    }\n",
       "</style>\n",
       "<table border=\"1\" class=\"dataframe\">\n",
       "  <thead>\n",
       "    <tr style=\"text-align: right;\">\n",
       "      <th></th>\n",
       "      <th>Package</th>\n",
       "      <th>Java API</th>\n",
       "      <th>Question</th>\n",
       "      <th>SISE</th>\n",
       "      <th>JADEITE</th>\n",
       "      <th>CROKAGE</th>\n",
       "      <th>ADECK</th>\n",
       "      <th>DocChameleon</th>\n",
       "      <th>SISE_context_relevancy</th>\n",
       "      <th>CROKAGE_context_relevancy</th>\n",
       "      <th>ADECK_relevancy</th>\n",
       "      <th>DocChameleon_context_relevancy</th>\n",
       "    </tr>\n",
       "  </thead>\n",
       "  <tbody>\n",
       "    <tr>\n",
       "      <th>0</th>\n",
       "      <td>applet</td>\n",
       "      <td>Applet</td>\n",
       "      <td>Loading and displaying local Images in Java Ap...</td>\n",
       "      <td>&lt;p&gt;If you re still seeing an  Illegal Escape C...</td>\n",
       "      <td>Most common way to construct:\\nClass appletCla...</td>\n",
       "      <td>It's likely the image can't be accessed from i...</td>\n",
       "      <td>*******************usage scenario 1***********...</td>\n",
       "      <td>['\"\"\"How can I display an image in the Applet?...</td>\n",
       "      <td>0.166667</td>\n",
       "      <td>1.000000</td>\n",
       "      <td>0.078125</td>\n",
       "      <td>0.968889</td>\n",
       "    </tr>\n",
       "    <tr>\n",
       "      <th>1</th>\n",
       "      <td>applet</td>\n",
       "      <td>Applet</td>\n",
       "      <td>Classloader in Applet: Cant access files</td>\n",
       "      <td>&lt;p&gt;If you re still seeing an  Illegal Escape C...</td>\n",
       "      <td>Most common way to construct:\\nClass appletCla...</td>\n",
       "      <td>Classloader hierarchy\\nWhenever a new JVM is s...</td>\n",
       "      <td>*******************usage scenario 1***********...</td>\n",
       "      <td>['\"\"\"Classloader in Applet: Can\\'t access file...</td>\n",
       "      <td>0.166667</td>\n",
       "      <td>0.388889</td>\n",
       "      <td>0.078125</td>\n",
       "      <td>1.000000</td>\n",
       "    </tr>\n",
       "    <tr>\n",
       "      <th>2</th>\n",
       "      <td>applet</td>\n",
       "      <td>Applet</td>\n",
       "      <td>How to access a file in a Java Applet?</td>\n",
       "      <td>&lt;p&gt;If you re still seeing an  Illegal Escape C...</td>\n",
       "      <td>Most common way to construct:\\nClass appletCla...</td>\n",
       "      <td>You need to wrap your code in AccessController...</td>\n",
       "      <td>*******************usage scenario 1***********...</td>\n",
       "      <td>['\"\"\"Accessing files from a Java Applet\\n\\nI\\'...</td>\n",
       "      <td>0.166667</td>\n",
       "      <td>0.333333</td>\n",
       "      <td>0.078125</td>\n",
       "      <td>0.280000</td>\n",
       "    </tr>\n",
       "    <tr>\n",
       "      <th>3</th>\n",
       "      <td>swing</td>\n",
       "      <td>JPanel</td>\n",
       "      <td>how to set JFrame background transparent but J...</td>\n",
       "      <td>&lt;p&gt;If you are using JPanels  then are probably...</td>\n",
       "      <td>Most common way to construct:\\nJPanel panel = ...</td>\n",
       "      <td>I found another solution.\\n\\nSet the backgroun...</td>\n",
       "      <td>*******************usage scenario 1***********...</td>\n",
       "      <td>['\"\"\"how to set JFrame background transparent ...</td>\n",
       "      <td>0.072464</td>\n",
       "      <td>1.000000</td>\n",
       "      <td>0.074627</td>\n",
       "      <td>1.000000</td>\n",
       "    </tr>\n",
       "    <tr>\n",
       "      <th>4</th>\n",
       "      <td>swing</td>\n",
       "      <td>JPanel</td>\n",
       "      <td>How to set a transparent background of JPanel?</td>\n",
       "      <td>&lt;p&gt;If you are using JPanels  then are probably...</td>\n",
       "      <td>Most common way to construct:\\nJPanel panel = ...</td>\n",
       "      <td>You could use setOpaque() to make the backgrou...</td>\n",
       "      <td>*******************usage scenario 1***********...</td>\n",
       "      <td>['\"\"\"I want to create a semi-transparent JPane...</td>\n",
       "      <td>0.072464</td>\n",
       "      <td>0.136364</td>\n",
       "      <td>0.074627</td>\n",
       "      <td>0.437500</td>\n",
       "    </tr>\n",
       "  </tbody>\n",
       "</table>\n",
       "</div>"
      ],
      "text/plain": [
       "  Package Java API                                           Question  \\\n",
       "0  applet   Applet  Loading and displaying local Images in Java Ap...   \n",
       "1  applet   Applet           Classloader in Applet: Cant access files   \n",
       "2  applet   Applet             How to access a file in a Java Applet?   \n",
       "3   swing   JPanel  how to set JFrame background transparent but J...   \n",
       "4   swing   JPanel     How to set a transparent background of JPanel?   \n",
       "\n",
       "                                                SISE  \\\n",
       "0  <p>If you re still seeing an  Illegal Escape C...   \n",
       "1  <p>If you re still seeing an  Illegal Escape C...   \n",
       "2  <p>If you re still seeing an  Illegal Escape C...   \n",
       "3  <p>If you are using JPanels  then are probably...   \n",
       "4  <p>If you are using JPanels  then are probably...   \n",
       "\n",
       "                                             JADEITE  \\\n",
       "0  Most common way to construct:\\nClass appletCla...   \n",
       "1  Most common way to construct:\\nClass appletCla...   \n",
       "2  Most common way to construct:\\nClass appletCla...   \n",
       "3  Most common way to construct:\\nJPanel panel = ...   \n",
       "4  Most common way to construct:\\nJPanel panel = ...   \n",
       "\n",
       "                                             CROKAGE  \\\n",
       "0  It's likely the image can't be accessed from i...   \n",
       "1  Classloader hierarchy\\nWhenever a new JVM is s...   \n",
       "2  You need to wrap your code in AccessController...   \n",
       "3  I found another solution.\\n\\nSet the backgroun...   \n",
       "4  You could use setOpaque() to make the backgrou...   \n",
       "\n",
       "                                               ADECK  \\\n",
       "0  *******************usage scenario 1***********...   \n",
       "1  *******************usage scenario 1***********...   \n",
       "2  *******************usage scenario 1***********...   \n",
       "3  *******************usage scenario 1***********...   \n",
       "4  *******************usage scenario 1***********...   \n",
       "\n",
       "                                        DocChameleon  SISE_context_relevancy  \\\n",
       "0  ['\"\"\"How can I display an image in the Applet?...                0.166667   \n",
       "1  ['\"\"\"Classloader in Applet: Can\\'t access file...                0.166667   \n",
       "2  ['\"\"\"Accessing files from a Java Applet\\n\\nI\\'...                0.166667   \n",
       "3  ['\"\"\"how to set JFrame background transparent ...                0.072464   \n",
       "4  ['\"\"\"I want to create a semi-transparent JPane...                0.072464   \n",
       "\n",
       "   CROKAGE_context_relevancy  ADECK_relevancy  DocChameleon_context_relevancy  \n",
       "0                   1.000000         0.078125                        0.968889  \n",
       "1                   0.388889         0.078125                        1.000000  \n",
       "2                   0.333333         0.078125                        0.280000  \n",
       "3                   1.000000         0.074627                        1.000000  \n",
       "4                   0.136364         0.074627                        0.437500  "
      ]
     },
     "execution_count": 3,
     "metadata": {},
     "output_type": "execute_result"
    }
   ],
   "source": [
    "from scipy.stats import f_oneway\n",
    "results = pd.read_csv(os.path.join(settings.DATA_PATH, \"final_data/quantitative_results_context.csv\"))\n",
    "results.head()"
   ]
  },
  {
   "cell_type": "code",
   "execution_count": 4,
   "metadata": {},
   "outputs": [
    {
     "name": "stdout",
     "output_type": "stream",
     "text": [
      "ANOVA result: F_onewayResult(statistic=47.31158945190873, pvalue=4.784355181417268e-23)\n"
     ]
    }
   ],
   "source": [
    "anova_result = f_oneway(results['ADECK_relevancy'], results['SISE_context_relevancy'], results['CROKAGE_context_relevancy'], results['DocChameleon_context_relevancy'])\n",
    "print(f'ANOVA result: {anova_result}')"
   ]
  },
  {
   "cell_type": "code",
   "execution_count": 6,
   "metadata": {},
   "outputs": [
    {
     "name": "stdout",
     "output_type": "stream",
     "text": [
      "ADECK vs SISE\n",
      "==========\n",
      "Mann-Whitney U statistic: 893.5\n",
      "p-value: 0.013413717609391657\n",
      "effect-size: 0.2665533121897899\n",
      "\n",
      "\n",
      "ADECK vs CROKAGE\n",
      "==========\n",
      "Mann-Whitney U statistic: 336.0\n",
      "p-value: 2.5401053213894996e-10\n",
      "effect-size: 1.421051197258846\n",
      "\n",
      "\n",
      "ADECK vs DocChameleon\n",
      "==========\n",
      "Mann-Whitney U statistic: 210.0\n",
      "p-value: 5.476714335399692e-13\n",
      "effect-size: 2.0515652637249806\n",
      "\n",
      "\n",
      "SISE vs CROKAGE\n",
      "==========\n",
      "Mann-Whitney U statistic: 434.0\n",
      "p-value: 1.6956840860946902e-08\n",
      "effect-size: 1.1917581307910359\n",
      "\n",
      "\n",
      "SISE vs DocChameleon\n",
      "==========\n",
      "Mann-Whitney U statistic: 303.0\n",
      "p-value: 5.438852715742657e-11\n",
      "effect-size: 1.8193442158025868\n",
      "\n",
      "\n",
      "CROKAGE vs DocChameleon\n",
      "==========\n",
      "Mann-Whitney U statistic: 908.0\n",
      "p-value: 0.01697968943905978\n",
      "effect-size: 0.5470302422261624\n",
      "\n",
      "\n"
     ]
    }
   ],
   "source": [
    "from scipy.stats import mannwhitneyu\n",
    "import pingouin as pg\n",
    "\n",
    "def mann_whitney(tool1, tool2, group1, group2):\n",
    "    print(f\"{tool1} vs {tool2}\")\n",
    "    print(f\"{'='*10}\")\n",
    "\n",
    "    stat, p_value = mannwhitneyu(group1, group2)\n",
    "    effect_size = pg.compute_effsize(group2, group1, eftype='cohen')\n",
    "    print(f'Mann-Whitney U statistic: {stat}')\n",
    "    print(f'p-value: {p_value}')\n",
    "    print(f'effect-size: {effect_size}\\n\\n')\n",
    "\n",
    "mann_whitney(\"ADECK\", \"SISE\", results['ADECK_relevancy'], results['SISE_context_relevancy'])\n",
    "mann_whitney(\"ADECK\", \"CROKAGE\", results['ADECK_relevancy'], results['CROKAGE_context_relevancy'])\n",
    "mann_whitney(\"ADECK\", \"DocChameleon\", results['ADECK_relevancy'], results['DocChameleon_context_relevancy'])\n",
    "\n",
    "mann_whitney(\"SISE\", \"CROKAGE\", results['SISE_context_relevancy'], results['CROKAGE_context_relevancy'])\n",
    "mann_whitney(\"SISE\", \"DocChameleon\", results['SISE_context_relevancy'], results['DocChameleon_context_relevancy'])\n",
    "mann_whitney(\"CROKAGE\", \"DocChameleon\", results['CROKAGE_context_relevancy'], results['DocChameleon_context_relevancy'])"
   ]
  },
  {
   "cell_type": "code",
   "execution_count": 5,
   "metadata": {},
   "outputs": [
    {
     "name": "stdout",
     "output_type": "stream",
     "text": [
      "ADECK\n",
      "==========\n",
      "\tAverage: 0.16789505425419995\n",
      "\tMax: 1.0\n",
      "\tMin: 0.0\n",
      "SISE\n",
      "==========\n",
      "\tAverage: 0.2309590537224\n",
      "\tMax: 1.0\n",
      "\tMin: 0.0\n",
      "CROKAGE\n",
      "==========\n",
      "\tAverage: 0.5621352659\n",
      "\tMax: 1.0\n",
      "\tMin: 0.111111111\n",
      "DocChameleon\n",
      "==========\n",
      "\tAverage: 0.7324928089000001\n",
      "\tMax: 1.0\n",
      "\tMin: 0.096153846\n"
     ]
    }
   ],
   "source": [
    "def stats(tool, column):\n",
    "    print(f\"{tool}\")\n",
    "    print(f\"{'='*10}\")\n",
    "    mean = column.mean()\n",
    "    max = column.max()\n",
    "    min = column.min()\n",
    "    print(f\"\\tAverage: {mean}\")\n",
    "    print(f\"\\tMax: {max}\")\n",
    "    print(f\"\\tMin: {min}\")\n",
    "\n",
    "stats(\"ADECK\", results['ADECK_relevancy'])\n",
    "stats(\"SISE\", results['SISE_context_relevancy'])\n",
    "stats(\"CROKAGE\", results['CROKAGE_context_relevancy'])\n",
    "stats(\"DocChameleon\", results['DocChameleon_context_relevancy'])"
   ]
  },
  {
   "cell_type": "code",
   "execution_count": 14,
   "metadata": {},
   "outputs": [
    {
     "name": "stderr",
     "output_type": "stream",
     "text": [
      "/var/folders/x7/c7r5kc051js_fytcq8jbvt040000gp/T/ipykernel_7821/199586865.py:15: UserWarning: set_ticklabels() should only be used with a fixed number of ticks, i.e. after set_ticks() or using a FixedLocator.\n",
      "  ax.set_xticklabels(custom_labels)\n"
     ]
    },
    {
     "data": {
      "image/png": "[encoded data removed]",
      "text/plain": [
       "<Figure size 600x500 with 1 Axes>"
      ]
     },
     "metadata": {},
     "output_type": "display_data"
    }
   ],
   "source": [
    "import matplotlib.pyplot as plt\n",
    "import seaborn as sns\n",
    "import matplotlib\n",
    "\n",
    "matplotlib.rcParams['font.family'] = 'Times New Roman'\n",
    "# sns.set_theme()\n",
    "\n",
    "df_selected = results[['ADECK_relevancy', 'SISE_context_relevancy', 'CROKAGE_context_relevancy', 'DocChameleon_context_relevancy']]\n",
    "df_melted = df_selected.melt(var_name='Tool', value_name='Relevancy')\n",
    "\n",
    "# Create notched box plots\n",
    "plt.figure(figsize=(6, 5))\n",
    "ax = sns.boxplot(x='Tool', y='Relevancy', hue='Tool',data=df_melted, notch=True, width=0.5, palette='Blues')\n",
    "custom_labels = ['ADECK', 'SISE', 'CROKAGE', 'DocChameleon']\n",
    "ax.set_xticklabels(custom_labels)\n",
    "# plt.xticks(rotation=15)\n",
    "\n",
    "# Add title and labels\n",
    "# plt.title('Relevancy of information retrieved from Stack Overflow', fontsize=14, fontweight='bold')\n",
    "# plt.xlabel('API Documentation Augmentation Tool', fontsize=14, fontweight='bold')\n",
    "\n",
    "plt.ylabel('Context Relevancy Score', fontsize=14, fontweight='bold')\n",
    "plt.savefig('/Users/sharukat/Documents/ResearchYU/Code/doc-customizer-llm/doc_customizer_llm/figures/context_relevancy.pdf')\n",
    "\n",
    "# Show the plot\n",
    "plt.show()"
   ]
  },
  {
   "cell_type": "markdown",
   "metadata": {},
   "source": [
    "#### For code"
   ]
  },
  {
   "cell_type": "code",
   "execution_count": 49,
   "metadata": {},
   "outputs": [
    {
     "name": "stdout",
     "output_type": "stream",
     "text": [
      "ANOVA result: F_onewayResult(statistic=155.24330052993767, pvalue=5.754574999626896e-37)\n"
     ]
    }
   ],
   "source": [
    "anova_result = f_oneway(results['ADECK_relevancy'], results['CROKAGE_relevancy'], results['DocChameleon_code_relevancy'])\n",
    "print(f'ANOVA result: {anova_result}')"
   ]
  },
  {
   "cell_type": "code",
   "execution_count": 50,
   "metadata": {},
   "outputs": [
    {
     "name": "stdout",
     "output_type": "stream",
     "text": [
      "ADECK\n",
      "==========\n",
      "\tAverage: 0.071853679381\n",
      "\tMax: 1.0\n",
      "\tMin: 0.0\n",
      "CROKAGE\n",
      "==========\n",
      "\tAverage: 0.5621352659\n",
      "\tMax: 1.0\n",
      "\tMin: 0.111111111\n",
      "DocChameleon\n",
      "==========\n",
      "\tAverage: 0.8514730158779998\n",
      "\tMax: 1.0\n",
      "\tMin: 0.2\n"
     ]
    }
   ],
   "source": [
    "stats(\"ADECK\", results['ADECK_relevancy'])\n",
    "stats(\"CROKAGE\", results['CROKAGE_relevancy'])\n",
    "stats(\"DocChameleon\", results['DocChameleon_code_relevancy'])"
   ]
  },
  {
   "cell_type": "code",
   "execution_count": 42,
   "metadata": {},
   "outputs": [
    {
     "name": "stdout",
     "output_type": "stream",
     "text": [
      "ADECK vs CROKAGE\n",
      "==========\n",
      "Mann-Whitney U statistic: 77.0\n",
      "p-value: 4.75055964700608e-16\n",
      "effect-size: 1.9777820218101962\n",
      "\n",
      "\n",
      "ADECK vs DocChameleon\n",
      "==========\n",
      "Mann-Whitney U statistic: 42.0\n",
      "p-value: 4.887141732044345e-17\n",
      "effect-size: 4.841656530317678\n",
      "\n",
      "\n",
      "CROKAGE vs DocChameleon\n",
      "==========\n",
      "Mann-Whitney U statistic: 613.5\n",
      "p-value: 8.233457383467957e-06\n",
      "effect-size: 1.1555919086339443\n",
      "\n",
      "\n"
     ]
    }
   ],
   "source": [
    "from scipy.stats import mannwhitneyu\n",
    "import pingouin as pg\n",
    "\n",
    "def mann_whitney(tool1, tool2, group1, group2):\n",
    "    print(f\"{tool1} vs {tool2}\")\n",
    "    print(f\"{'='*10}\")\n",
    "\n",
    "    stat, p_value = mannwhitneyu(group1, group2)\n",
    "    effect_size = pg.compute_effsize(group2, group1, eftype='cohen')\n",
    "    print(f'Mann-Whitney U statistic: {stat}')\n",
    "    print(f'p-value: {p_value}')\n",
    "    print(f'effect-size: {effect_size}\\n\\n')\n",
    "\n",
    "mann_whitney(\"ADECK\", \"CROKAGE\", results['ADECK_relevancy'], results['CROKAGE_relevancy'])\n",
    "mann_whitney(\"ADECK\", \"DocChameleon\", results['ADECK_relevancy'], results['DocChameleon_code_relevancy'])\n",
    "mann_whitney(\"CROKAGE\", \"DocChameleon\", results['CROKAGE_relevancy'], results['DocChameleon_code_relevancy'])"
   ]
  },
  {
   "cell_type": "code",
   "execution_count": 44,
   "metadata": {},
   "outputs": [
    {
     "name": "stderr",
     "output_type": "stream",
     "text": [
      "/var/folders/x7/c7r5kc051js_fytcq8jbvt040000gp/T/ipykernel_870/4219612767.py:15: UserWarning: set_ticklabels() should only be used with a fixed number of ticks, i.e. after set_ticks() or using a FixedLocator.\n",
      "  ax.set_xticklabels(custom_labels)\n"
     ]
    },
    {
     "data": {
      "image/png": "[encoded data removed]",
      "text/plain": [
       "<Figure size 600x500 with 1 Axes>"
      ]
     },
     "metadata": {},
     "output_type": "display_data"
    }
   ],
   "source": [
    "import matplotlib.pyplot as plt\n",
    "import seaborn as sns\n",
    "import matplotlib\n",
    "\n",
    "matplotlib.rcParams['font.family'] = 'Times New Roman'\n",
    "# sns.set_theme()\n",
    "\n",
    "df_selected = results[['ADECK_relevancy', 'CROKAGE_relevancy', 'DocChameleon_code_relevancy']]\n",
    "df_melted = df_selected.melt(var_name='Tool', value_name='Relevancy')\n",
    "\n",
    "# Create notched box plots\n",
    "plt.figure(figsize=(6, 5))\n",
    "ax = sns.boxplot(x='Tool', y='Relevancy', hue='Tool',data=df_melted, notch=True, width=0.4, palette='Blues')\n",
    "custom_labels = ['ADECK', 'CROKAGE', 'DocChameleon']\n",
    "ax.set_xticklabels(custom_labels)\n",
    "# plt.xticks(rotation=15)\n",
    "\n",
    "# Add title and labels\n",
    "plt.title('Relevancy of API documentation augmented code examples', fontsize=14, fontweight='bold')\n",
    "# plt.xlabel('API Documentation Augmentation Tool', fontsize=14, fontweight='bold')\n",
    "plt.ylabel('Relevancy Score', fontsize=14, fontweight='bold')\n",
    "plt.savefig('/Users/sharukat/Documents/ResearchYU/Code/doc-customizer-llm/doc_customizer_llm/figures/code_relevancy.pdf')\n",
    "\n",
    "# Show the plot\n",
    "plt.show()"
   ]
  }
 ],
 "metadata": {
  "kernelspec": {
   "display_name": ".venv",
   "language": "python",
   "name": "python3"
  },
  "language_info": {
   "codemirror_mode": {
    "name": "ipython",
    "version": 3
   },
   "file_extension": ".py",
   "mimetype": "text/x-python",
   "name": "python",
   "nbconvert_exporter": "python",
   "pygments_lexer": "ipython3",
   "version": "3.11.8"
  }
 },
 "nbformat": 4,
 "nbformat_minor": 2
}
