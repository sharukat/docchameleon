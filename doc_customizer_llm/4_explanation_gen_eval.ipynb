{
 "cells": [
  {
   "cell_type": "markdown",
   "metadata": {},
   "source": [
    "# Generating Explanation Evaluation"
   ]
  },
  {
   "cell_type": "code",
   "execution_count": 18,
   "metadata": {},
   "outputs": [
    {
     "data": {
      "application/vnd.jupyter.widget-view+json": {
       "model_id": "364268614e844cf7ab6b2e8ed4944cf0",
       "version_major": 2,
       "version_minor": 0
      },
      "text/plain": [
       "Downloading https://raw.githubusercontent.com/stanfordnlp/stanza-resources/main/resources_1.8.0.json:   0%|   …"
      ]
     },
     "metadata": {},
     "output_type": "display_data"
    },
    {
     "name": "stderr",
     "output_type": "stream",
     "text": [
      "2024-07-11 15:22:51 INFO: Downloaded file to /Users/sharukat/stanza_resources/resources.json\n",
      "2024-07-11 15:22:51 INFO: \"zh\" is an alias for \"zh-hans\"\n",
      "2024-07-11 15:22:51 INFO: Downloading these customized packages for language: zh-hans (Simplified_Chinese)...\n",
      "=======================\n",
      "| Processor | Package |\n",
      "-----------------------\n",
      "| tokenize  | gsdsimp |\n",
      "=======================\n",
      "\n",
      "2024-07-11 15:22:51 INFO: File exists: /Users/sharukat/stanza_resources/zh-hans/tokenize/gsdsimp.pt\n",
      "2024-07-11 15:22:51 INFO: Finished downloading models and saved to /Users/sharukat/stanza_resources\n"
     ]
    },
    {
     "name": "stdout",
     "output_type": "stream",
     "text": [
      "Initiate OpenAI client... model = gpt-4o\n"
     ]
    }
   ],
   "source": [
    "import time\n",
    "import pandas as pd\n",
    "from tqdm import tqdm\n",
    "from langchain_openai import ChatOpenAI\n",
    "import lib.global_settings as settings\n",
    "from ShaDoC.generate import generate_explanation\n",
    "from langchain_core.pydantic_v1 import BaseModel, Field, validator\n",
    "from langchain_core.output_parsers import JsonOutputParser\n",
    "from langchain.prompts import PromptTemplate\n",
    "from langchain_cohere import ChatCohere\n",
    "\n",
    "import stanza\n",
    "stanza.download('zh', processors='tokenize')\n",
    "\n",
    "import os\n",
    "from dotenv import load_dotenv\n",
    "load_dotenv(dotenv_path=\"/Users/sharukat/Documents/ResearchYU/Code/doc-customizer-llm/doc_customizer_llm/.env\")\n",
    "os.environ[\"OPENAI_API_KEY\"] = os.getenv(\"OPENAI_API_KEY\")\n",
    "os.environ[\"COHERE_API_KEY\"] = os.getenv(\"COHERE_API_KEY\")\n",
    "\n",
    "from ragas.metrics import faithfulness, answer_relevancy\n",
    "from ragas import evaluate\n",
    "from datasets import Dataset\n",
    "import ast\n",
    "\n",
    "from selfcheckgpt.modeling_selfcheck_apiprompt import SelfCheckAPIPrompt\n",
    "selfcheck_prompt = SelfCheckAPIPrompt(client_type=\"openai\", model=\"gpt-4o\")"
   ]
  },
  {
   "cell_type": "code",
   "execution_count": 51,
   "metadata": {},
   "outputs": [
    {
     "data": {
      "text/plain": [
       "Index(['QuestionId', 'QuestionAPI', 'IssueType', 'Title', 'Question',\n",
       "       'GroundTruth', 'course_urls', 'yt_urls', 'retrieve_docs',\n",
       "       'retrieve_contexts', 'retrieve_context_scores', 'retrieve_so_urls',\n",
       "       'generated_explanation_x', 'no_context_generated_explanation',\n",
       "       'faithfulness', 'answer_relevancy', 'retrieve_contexts_new',\n",
       "       'no_context_faithfulness', 'no_context_answer_relevancy',\n",
       "       'generated_explanation_y', 'no_doc_context_generated_explanation',\n",
       "       'generated_samples', 'no_doc_context_generated_samples',\n",
       "       'gen_selfcheck_scores', 'gen_selfcheck_avg_score',\n",
       "       'no_context_gen_selfcheck_scores',\n",
       "       'no_context_gen_selfcheck_avg_score'],\n",
       "      dtype='object')"
      ]
     },
     "execution_count": 51,
     "metadata": {},
     "output_type": "execute_result"
    }
   ],
   "source": [
    "df = pd.read_csv(os.path.join(settings.DATA_PATH, \"final_data/eval_dataset_part2.csv\"))\n",
    "df.columns"
   ]
  },
  {
   "cell_type": "code",
   "execution_count": 3,
   "metadata": {},
   "outputs": [],
   "source": [
    "def get_documentation(filename):\n",
    "\n",
    "  filename_with_ext = os.path.join(\"/Users/sharukat/Documents/ResearchYU/Code/doc-customizer-llm/doc_customizer_llm/ShaDoC/docs\", filename) + \".md\"  # Add the .md extension\n",
    "  try:\n",
    "    with open(filename_with_ext, \"r\", encoding=\"utf-8\") as file:\n",
    "      content = file.read()\n",
    "    return content\n",
    "  except FileNotFoundError:\n",
    "    raise ValueError(f\"❗ DOCUMENTATION NOT FOUND.\\n\")"
   ]
  },
  {
   "cell_type": "code",
   "execution_count": 16,
   "metadata": {},
   "outputs": [],
   "source": [
    "def split_sent(text):\n",
    "    class Output(BaseModel):\n",
    "        sentences: list = Field(description=\"Sentences as a comma separated list\")\n",
    "\n",
    "    parser = JsonOutputParser(pydantic_object=Output)\n",
    "    format_instructions = parser.get_format_instructions()\n",
    "\n",
    "    template = \"\"\"\n",
    "        Split the entire given response into sentences and return the sentences as comma separated list of sentences.\n",
    "        {text}\n",
    "\n",
    "    \"\"\"\n",
    "    PROMPT = PromptTemplate(\n",
    "        template=template,\n",
    "        input_variables=['text'])\n",
    "\n",
    "    llm=ChatCohere(model=\"command-r-plus\", temperature=0)\n",
    "    chain = PROMPT | llm\n",
    "    prompt = {\"text\" : text}\n",
    "\n",
    "    response = chain.invoke(prompt)\n",
    "    return response"
   ]
  },
  {
   "cell_type": "code",
   "execution_count": 22,
   "metadata": {},
   "outputs": [],
   "source": [
    "def split_to_sentences(text: str):\n",
    "    nlp = stanza.Pipeline(lang='en', processors='tokenize', download_method=None, verbose=False)\n",
    "    doc = nlp(text)\n",
    "    senteces = [sentence.text for sentence in doc.sentences]\n",
    "    return senteces"
   ]
  },
  {
   "cell_type": "markdown",
   "metadata": {},
   "source": [
    "### Prompt 1\n",
    "Prompt the LLM with relevant information (context)."
   ]
  },
  {
   "cell_type": "code",
   "execution_count": null,
   "metadata": {},
   "outputs": [],
   "source": [
    "results = []\n",
    "for index, row in tqdm(df.iterrows(), total=df.shape[0]):\n",
    "    documentation = get_documentation(row[\"QuestionAPI\"])\n",
    "    solution = generate_explanation(\n",
    "        documentation=documentation, \n",
    "        context=row[\"retrieve_contexts\"], \n",
    "        title=row[\"Title\"], \n",
    "        question=row[\"Question\"])\n",
    "    results.append({\"generated_explanation\":solution.content})"
   ]
  },
  {
   "cell_type": "code",
   "execution_count": null,
   "metadata": {},
   "outputs": [],
   "source": [
    "# Generated samples\n",
    "results = []\n",
    "for index, row in tqdm(df.iterrows(), total=df.shape[0]):\n",
    "    documentation = get_documentation(row[\"QuestionAPI\"])\n",
    "    samples = []\n",
    "    for i in range(4):\n",
    "        solution = generate_explanation(\n",
    "            documentation=documentation, \n",
    "            context=row[\"retrieve_contexts\"], \n",
    "            title=row[\"Title\"], \n",
    "            question=row[\"Question\"])\n",
    "        samples.append(solution.content)\n",
    "    results.append({\"generated_samples\":samples})"
   ]
  },
  {
   "cell_type": "code",
   "execution_count": null,
   "metadata": {},
   "outputs": [],
   "source": [
    "df_new = pd.DataFrame(results)\n",
    "merged_df = df.merge(df_new, left_index=True, right_index=True)\n",
    "merged_df.to_csv(os.path.join(settings.DATA_PATH, \"final_data/eval_dataset_part2.csv\"),index=False)\n",
    "merged_df"
   ]
  },
  {
   "cell_type": "markdown",
   "metadata": {},
   "source": [
    "### Prompt 2\n",
    "Prompt the LLM without relevant information (context)"
   ]
  },
  {
   "cell_type": "code",
   "execution_count": null,
   "metadata": {},
   "outputs": [],
   "source": [
    "results = []\n",
    "for index, row in tqdm(df.iterrows(), total=df.shape[0]):\n",
    "    documentation = get_documentation(row[\"QuestionAPI\"])\n",
    "    solution = generate_explanation(\n",
    "        title=row[\"Title\"], \n",
    "        question=row[\"Question\"], noContext=True)\n",
    "    results.append({\"no_doc_context_generated_explanation\":solution.content})\n",
    "    "
   ]
  },
  {
   "cell_type": "code",
   "execution_count": null,
   "metadata": {},
   "outputs": [],
   "source": [
    "# Generated samples\n",
    "results = []\n",
    "for index, row in tqdm(df.iterrows(), total=df.shape[0]):\n",
    "    samples = []\n",
    "    for i in range(4):\n",
    "        solution = generate_explanation(\n",
    "            title=row[\"Title\"], \n",
    "            question=row[\"Question\"], noContext=True)\n",
    "        samples.append(solution.content)\n",
    "    results.append({\"no_doc_context_generated_samples\":samples})"
   ]
  },
  {
   "cell_type": "code",
   "execution_count": null,
   "metadata": {},
   "outputs": [],
   "source": [
    "df_new = pd.DataFrame(results)\n",
    "merged_df = df.merge(df_new, left_index=True, right_index=True)\n",
    "merged_df.to_csv(os.path.join(settings.DATA_PATH, \"final_data/eval_dataset_part2.csv\"),index=False)\n",
    "merged_df"
   ]
  },
  {
   "cell_type": "markdown",
   "metadata": {},
   "source": [
    "## Compute Hallucination"
   ]
  },
  {
   "cell_type": "markdown",
   "metadata": {},
   "source": [
    "### SelfCheckGPT"
   ]
  },
  {
   "cell_type": "code",
   "execution_count": 32,
   "metadata": {},
   "outputs": [
    {
     "name": "stderr",
     "output_type": "stream",
     "text": [
      "100%|██████████| 22/22 [08:49<00:00, 24.09s/it]\n"
     ]
    }
   ],
   "source": [
    "# With context\n",
    "results = []\n",
    "for index, row in tqdm(df.iterrows(), total=df.shape[0]):\n",
    "    sentences = split_to_sentences(row[\"generated_explanation_y\"])\n",
    "    samples = ast.literal_eval(row[\"generated_samples\"])\n",
    "    sent_scores_prompt = selfcheck_prompt.predict(\n",
    "        sentences = sentences,  \n",
    "        sampled_passages = samples, # list of sampled passages\n",
    "        verbose = False,\n",
    "    )\n",
    "    avg_score = average = sum(sent_scores_prompt) / len(sent_scores_prompt)\n",
    "    res = {\"gen_selfcheck_scores\": sent_scores_prompt, \"gen_selfcheck_avg_score\": avg_score}\n",
    "    results.append(res)"
   ]
  },
  {
   "cell_type": "code",
   "execution_count": 39,
   "metadata": {},
   "outputs": [
    {
     "name": "stderr",
     "output_type": "stream",
     "text": [
      "100%|██████████| 22/22 [05:04<00:00, 13.85s/it]\n"
     ]
    }
   ],
   "source": [
    "# Without context\n",
    "results = []\n",
    "for index, row in tqdm(df.iterrows(), total=df.shape[0]):\n",
    "    sentences = split_to_sentences(row[\"no_doc_context_generated_explanation\"])\n",
    "    samples = ast.literal_eval(row[\"no_doc_context_generated_samples\"])\n",
    "    sent_scores_prompt = selfcheck_prompt.predict(\n",
    "        sentences = sentences,  \n",
    "        sampled_passages = samples, # list of sampled passages\n",
    "        verbose = False,\n",
    "    )\n",
    "    avg_score = average = sum(sent_scores_prompt) / len(sent_scores_prompt)\n",
    "    res = {\"gen_selfcheck_scores\": sent_scores_prompt, \"gen_selfcheck_avg_score\": avg_score}\n",
    "    results.append(res)\n"
   ]
  },
  {
   "cell_type": "code",
   "execution_count": null,
   "metadata": {},
   "outputs": [],
   "source": [
    "df_new = pd.DataFrame(results)\n",
    "merged_df = df.merge(df_new, left_index=True, right_index=True)\n",
    "merged_df.to_csv(os.path.join(settings.DATA_PATH, \"final_data/eval_dataset_part2.csv\"),index=False)"
   ]
  },
  {
   "cell_type": "markdown",
   "metadata": {},
   "source": [
    "### RAGAS"
   ]
  },
  {
   "cell_type": "code",
   "execution_count": null,
   "metadata": {},
   "outputs": [],
   "source": [
    "df['retrieve_contexts_new'] = df['retrieve_contexts'].apply(ast.literal_eval)\n",
    "# df['Title_new'] = df['Title'].apply(lambda x: [x]) \n",
    "# contexts = df['retrieve_contexts'].tolist()\n",
    "\n",
    "data = {\"question\": df[\"Question\"], \"answer\": df[\"no_context_generated_explanation\"], \"contexts\": df['retrieve_contexts_new']}\n",
    "results = evaluate(Dataset.from_dict(data), metrics=[faithfulness, answer_relevancy])\n",
    "res = results.to_pandas()\n",
    "res"
   ]
  },
  {
   "cell_type": "code",
   "execution_count": null,
   "metadata": {},
   "outputs": [],
   "source": [
    "res = res[[\"faithfulness\", \"answer_relevancy\"]]\n",
    "res.rename(columns={\"faithfulness\": \"no_context_faithfulness\", \"answer_relevancy\": \"no_context_answer_relevancy\"}, inplace=True)\n",
    "res"
   ]
  },
  {
   "cell_type": "code",
   "execution_count": null,
   "metadata": {},
   "outputs": [],
   "source": [
    "merged_df = df.merge(res, left_index=True, right_index=True)\n",
    "merged_df.to_csv(os.path.join(settings.DATA_PATH, \"final_data/eval_dataset_part2.csv\"),index=False)\n",
    "merged_df"
   ]
  },
  {
   "cell_type": "markdown",
   "metadata": {},
   "source": [
    "## Comparison"
   ]
  },
  {
   "cell_type": "code",
   "execution_count": 47,
   "metadata": {},
   "outputs": [
    {
     "data": {
      "text/plain": [
       "numpy.float64"
      ]
     },
     "execution_count": 47,
     "metadata": {},
     "output_type": "execute_result"
    }
   ],
   "source": [
    "type(df[\"gen_selfcheck_avg_score\"][0])"
   ]
  },
  {
   "cell_type": "code",
   "execution_count": 50,
   "metadata": {},
   "outputs": [
    {
     "name": "stderr",
     "output_type": "stream",
     "text": [
      "/var/folders/x7/c7r5kc051js_fytcq8jbvt040000gp/T/ipykernel_4920/3912168389.py:15: UserWarning: set_ticklabels() should only be used with a fixed number of ticks, i.e. after set_ticks() or using a FixedLocator.\n",
      "  ax.set_xticklabels(custom_labels)\n"
     ]
    },
    {
     "data": {
      "image/png": "[encoded data removed]",
      "text/plain": [
       "<Figure size 700x600 with 1 Axes>"
      ]
     },
     "metadata": {},
     "output_type": "display_data"
    }
   ],
   "source": [
    "import matplotlib.pyplot as plt\n",
    "import seaborn as sns\n",
    "import matplotlib\n",
    "\n",
    "matplotlib.rcParams['font.family'] = 'Times New Roman'\n",
    "sns.set_theme()\n",
    "\n",
    "df_selected = df[['gen_selfcheck_avg_score', 'no_context_gen_selfcheck_avg_score']]\n",
    "df_melted = df_selected.melt(var_name='Tool', value_name='SelfCheckGPTScore')\n",
    "\n",
    "# Create notched box plots\n",
    "plt.figure(figsize=(7, 6))\n",
    "ax = sns.boxplot(x='Tool', y='SelfCheckGPTScore', hue='Tool',data=df_melted, notch=True, width=0.5, palette='Greens')\n",
    "custom_labels = ['Generation with context', 'Generation without context']\n",
    "ax.set_xticklabels(custom_labels)\n",
    "# plt.xticks(rotation=15)\n",
    "\n",
    "# Add title and labels\n",
    "# plt.title('Notched Box Plots of Tool Performance')\n",
    "plt.xlabel('Generation Type', fontsize=14, fontweight='bold')\n",
    "plt.ylabel('SelfChekGPT Hallucination Score', fontsize=14, fontweight='bold')\n",
    "# plt.savefig('/Users/sharukat/Documents/ResearchYU/Code/doc-customizer-llm/doc_customizer_llm/figures/context_relevancy.pdf')\n",
    "\n",
    "# Show the plot\n",
    "plt.show()"
   ]
  }
 ],
 "metadata": {
  "kernelspec": {
   "display_name": ".venv",
   "language": "python",
   "name": "python3"
  },
  "language_info": {
   "codemirror_mode": {
    "name": "ipython",
    "version": 3
   },
   "file_extension": ".py",
   "mimetype": "text/x-python",
   "name": "python",
   "nbconvert_exporter": "python",
   "pygments_lexer": "ipython3",
   "version": "3.11.8"
  }
 },
 "nbformat": 4,
 "nbformat_minor": 2
}
